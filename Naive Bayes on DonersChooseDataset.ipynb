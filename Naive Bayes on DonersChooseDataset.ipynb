{
 "cells": [
  {
   "cell_type": "markdown",
   "metadata": {
    "colab_type": "text",
    "id": "Dnubs-Nnb3cw"
   },
   "source": [
    "# Assignment 4: Apply NB\n",
    "                                                                                Submitted By- Rahul P Dable"
   ]
  },
  {
   "cell_type": "markdown",
   "metadata": {
    "colab_type": "text",
    "id": "12krXa2pb3c1"
   },
   "source": [
    "<ol>\n",
    "    <li><strong>Apply Multinomial NB on these feature sets</strong>\n",
    "        <ul>\n",
    "            <li><font color='red'>Set 1</font>: categorical, numerical features + project_title(BOW) + preprocessed_eassay (BOW)</li>\n",
    "            <li><font color='red'>Set 2</font>: categorical, numerical features + project_title(TFIDF)+  preprocessed_eassay (TFIDF)</li>\n",
    "        </ul>\n",
    "    </li>\n",
    "    <li><strong>The hyper paramter tuning(find best alpha:smoothing parameter)</strong>\n",
    "        <ul>\n",
    "    <li>Find the best hyper parameter which will give the maximum <a href='https://www.appliedaicourse.com/course/applied-ai-course-online/lessons/receiver-operating-characteristic-curve-roc-curve-and-auc-1/'>AUC</a> value</li>\n",
    "    <li>find the best hyper paramter using k-fold cross validation(use GridsearchCV or RandomsearchCV)/simple cross validation data (write for loop to iterate over hyper parameter values)</li>\n",
    "    <li></li>\n",
    "        </ul>\n",
    "    </li>\n",
    "    <li>\n",
    "    <strong>Representation of results</strong>\n",
    "        <ul>\n",
    "    <li>You need to plot the performance of model both on train data and cross validation data for each hyper parameter, like shown in the figure\n",
    "    <img src='https://i.imgur.com/hUv6aEy.jpg' width=300px></li>\n",
    "    <li>Once after you found the best hyper parameter, you need to train your model with it, and find the AUC on test data and plot the ROC curve on both train and test.\n",
    "    <img src='https://i.imgur.com/wMQDTFe.jpg' width=300px></li>\n",
    "    <li>Along with plotting ROC curve, you need to print the <a href='https://www.appliedaicourse.com/course/applied-ai-course-online/lessons/confusion-matrix-tpr-fpr-fnr-tnr-1/'>confusion matrix</a> with predicted and original labels of test data points\n",
    "    <img src='https://i.imgur.com/IdN5Ctv.png' width=300px></li>\n",
    "        </ul>\n",
    "    </li>\n",
    "    <li>\n",
    "fine the top 20 features from either from feature <font color='red'>Set 1</font> or feature <font color='red'>Set 2</font> using absolute values of `feature_log_prob_ ` parameter of `MultinomialNB` \n",
    "(https://scikit-learn.org/stable/modules/generated/sklearn.naive_bayes.MultinomialNB.html) and print their corresponding feature names\n",
    "    </li>\n",
    "    <li>You need to summarize the results at the end of the notebook, summarize it in the table format\n",
    "        <img src='http://i.imgur.com/YVpIGGE.jpg' width=400px>\n",
    "    </li>\n",
    "</ol>"
   ]
  },
  {
   "cell_type": "markdown",
   "metadata": {},
   "source": [
    "#### <font color = 'Green'> CODE REFERENCE: Notebook 5_Reference_SampleSolution by AAIC </font>\n"
   ]
  },
  {
   "cell_type": "markdown",
   "metadata": {
    "colab_type": "text",
    "id": "inzYCIaib3c3"
   },
   "source": [
    "<h1> Naive Bayes </h1>"
   ]
  },
  {
   "cell_type": "markdown",
   "metadata": {
    "colab_type": "text",
    "id": "FYqCIxzFb3c5"
   },
   "source": [
    "#### 1 Loading Data"
   ]
  },
  {
   "cell_type": "code",
   "execution_count": 1,
   "metadata": {
    "colab": {},
    "colab_type": "code",
    "id": "dA1jknyqb3c_",
    "scrolled": true
   },
   "outputs": [
    {
     "data": {
      "text/html": [
       "<div>\n",
       "<style scoped>\n",
       "    .dataframe tbody tr th:only-of-type {\n",
       "        vertical-align: middle;\n",
       "    }\n",
       "\n",
       "    .dataframe tbody tr th {\n",
       "        vertical-align: top;\n",
       "    }\n",
       "\n",
       "    .dataframe thead th {\n",
       "        text-align: right;\n",
       "    }\n",
       "</style>\n",
       "<table border=\"1\" class=\"dataframe\">\n",
       "  <thead>\n",
       "    <tr style=\"text-align: right;\">\n",
       "      <th></th>\n",
       "      <th>school_state</th>\n",
       "      <th>teacher_prefix</th>\n",
       "      <th>project_grade_category</th>\n",
       "      <th>teacher_number_of_previously_posted_projects</th>\n",
       "      <th>project_is_approved</th>\n",
       "      <th>clean_categories</th>\n",
       "      <th>clean_subcategories</th>\n",
       "      <th>essay</th>\n",
       "      <th>price</th>\n",
       "    </tr>\n",
       "  </thead>\n",
       "  <tbody>\n",
       "    <tr>\n",
       "      <th>0</th>\n",
       "      <td>ca</td>\n",
       "      <td>mrs</td>\n",
       "      <td>grades_prek_2</td>\n",
       "      <td>53</td>\n",
       "      <td>1</td>\n",
       "      <td>math_science</td>\n",
       "      <td>appliedsciences health_lifescience</td>\n",
       "      <td>i fortunate enough use fairy tale stem kits cl...</td>\n",
       "      <td>725.05</td>\n",
       "    </tr>\n",
       "    <tr>\n",
       "      <th>1</th>\n",
       "      <td>ut</td>\n",
       "      <td>ms</td>\n",
       "      <td>grades_3_5</td>\n",
       "      <td>4</td>\n",
       "      <td>1</td>\n",
       "      <td>specialneeds</td>\n",
       "      <td>specialneeds</td>\n",
       "      <td>imagine 8 9 years old you third grade classroo...</td>\n",
       "      <td>213.03</td>\n",
       "    </tr>\n",
       "  </tbody>\n",
       "</table>\n",
       "</div>"
      ],
      "text/plain": [
       "  school_state teacher_prefix project_grade_category  \\\n",
       "0           ca            mrs          grades_prek_2   \n",
       "1           ut             ms             grades_3_5   \n",
       "\n",
       "   teacher_number_of_previously_posted_projects  project_is_approved  \\\n",
       "0                                            53                    1   \n",
       "1                                             4                    1   \n",
       "\n",
       "  clean_categories                 clean_subcategories  \\\n",
       "0     math_science  appliedsciences health_lifescience   \n",
       "1     specialneeds                        specialneeds   \n",
       "\n",
       "                                               essay   price  \n",
       "0  i fortunate enough use fairy tale stem kits cl...  725.05  \n",
       "1  imagine 8 9 years old you third grade classroo...  213.03  "
      ]
     },
     "execution_count": 1,
     "metadata": {},
     "output_type": "execute_result"
    }
   ],
   "source": [
    "import pandas as pd\n",
    "import numpy as np\n",
    "total_rows_selected = 50000\n",
    "data = pd.read_csv('preprocessed_data.csv',  nrows=total_rows_selected)\n",
    "data.head(2)"
   ]
  },
  {
   "cell_type": "markdown",
   "metadata": {},
   "source": [
    "#### <font color = 'blue'>NOTE</font>\n",
    "<font color = 'green'>It seems that **project_title** feature is missing in **preprocessed_data.csv**\n",
    "    \n",
    " Let's pick that feature from **train_data.csv**, preprocess and attach it to **preprocessed_data.csv**</font>\n"
   ]
  },
  {
   "cell_type": "markdown",
   "metadata": {},
   "source": [
    "**Preprocessing Text Data**"
   ]
  },
  {
   "cell_type": "code",
   "execution_count": 2,
   "metadata": {},
   "outputs": [],
   "source": [
    "data_train = pd.read_csv('train_data.csv',  nrows=total_rows_selected)"
   ]
  },
  {
   "cell_type": "code",
   "execution_count": 3,
   "metadata": {},
   "outputs": [],
   "source": [
    "#CODE Reference:Notebook 5_Reference_SampleSolution by AAIC\n",
    "# https://stackoverflow.com/a/47091490/4084039\n",
    "import re\n",
    "\n",
    "def decontracted(phrase):\n",
    "    # specific\n",
    "    phrase = re.sub(r\"won't\", \"will not\", phrase)\n",
    "    phrase = re.sub(r\"can\\'t\", \"can not\", phrase)\n",
    "\n",
    "    # general\n",
    "    phrase = re.sub(r\"n\\'t\", \" not\", phrase)\n",
    "    phrase = re.sub(r\"\\'re\", \" are\", phrase)\n",
    "    phrase = re.sub(r\"\\'s\", \" is\", phrase)\n",
    "    phrase = re.sub(r\"\\'d\", \" would\", phrase)\n",
    "    phrase = re.sub(r\"\\'ll\", \" will\", phrase)\n",
    "    phrase = re.sub(r\"\\'t\", \" not\", phrase)\n",
    "    phrase = re.sub(r\"\\'ve\", \" have\", phrase)\n",
    "    phrase = re.sub(r\"\\'m\", \" am\", phrase)\n",
    "    return phrase\n",
    "\n",
    "# https://gist.github.com/sebleier/554280\n",
    "# we are removing the words from the stop words list: 'no', 'nor', 'not'\n",
    "stopwords= ['i', 'me', 'my', 'myself', 'we', 'our', 'ours', 'ourselves', 'you', \"you're\", \"you've\",\\\n",
    "            \"you'll\", \"you'd\", 'your', 'yours', 'yourself', 'yourselves', 'he', 'him', 'his', 'himself', \\\n",
    "            'she', \"she's\", 'her', 'hers', 'herself', 'it', \"it's\", 'its', 'itself', 'they', 'them', 'their',\\\n",
    "            'theirs', 'themselves', 'what', 'which', 'who', 'whom', 'this', 'that', \"that'll\", 'these', 'those', \\\n",
    "            'am', 'is', 'are', 'was', 'were', 'be', 'been', 'being', 'have', 'has', 'had', 'having', 'do', 'does', \\\n",
    "            'did', 'doing', 'a', 'an', 'the', 'and', 'but', 'if', 'or', 'because', 'as', 'until', 'while', 'of', \\\n",
    "            'at', 'by', 'for', 'with', 'about', 'against', 'between', 'into', 'through', 'during', 'before', 'after',\\\n",
    "            'above', 'below', 'to', 'from', 'up', 'down', 'in', 'out', 'on', 'off', 'over', 'under', 'again', 'further',\\\n",
    "            'then', 'once', 'here', 'there', 'when', 'where', 'why', 'how', 'all', 'any', 'both', 'each', 'few', 'more',\\\n",
    "            'most', 'other', 'some', 'such', 'only', 'own', 'same', 'so', 'than', 'too', 'very', \\\n",
    "            's', 't', 'can', 'will', 'just', 'don', \"don't\", 'should', \"should've\", 'now', 'd', 'll', 'm', 'o', 're', \\\n",
    "            've', 'y', 'ain', 'aren', \"aren't\", 'couldn', \"couldn't\", 'didn', \"didn't\", 'doesn', \"doesn't\", 'hadn',\\\n",
    "            \"hadn't\", 'hasn', \"hasn't\", 'haven', \"haven't\", 'isn', \"isn't\", 'ma', 'mightn', \"mightn't\", 'mustn',\\\n",
    "            \"mustn't\", 'needn', \"needn't\", 'shan', \"shan't\", 'shouldn', \"shouldn't\", 'wasn', \"wasn't\", 'weren', \"weren't\", \\\n",
    "            'won', \"won't\", 'wouldn', \"wouldn't\", \"they\", \"many\"]\n",
    "\n",
    "# Combining all the above stundents \n",
    "from tqdm import tqdm\n",
    "def preprocess_text(text_data):\n",
    "    preprocessed_text = []\n",
    "    # tqdm is for printing the status bar\n",
    "    for sentance in tqdm(text_data):\n",
    "        sent = decontracted(sentance)\n",
    "        sent = sent.replace('\\\\r', ' ')\n",
    "        sent = sent.replace('\\\\n', ' ')\n",
    "        sent = sent.replace('\\\\\"', ' ')\n",
    "        sent = re.sub('[^A-Za-z0-9]+', ' ', sent)\n",
    "        # https://gist.github.com/sebleier/554280\n",
    "        sent = ' '.join(e for e in sent.split() if e.lower() not in stopwords)\n",
    "        preprocessed_text.append(sent.lower().strip())\n",
    "    return preprocessed_text\n",
    "\n"
   ]
  },
  {
   "cell_type": "markdown",
   "metadata": {},
   "source": [
    "Preprocessing **project_title** "
   ]
  },
  {
   "cell_type": "code",
   "execution_count": 4,
   "metadata": {},
   "outputs": [
    {
     "name": "stderr",
     "output_type": "stream",
     "text": [
      "100%|██████████| 50000/50000 [00:02<00:00, 23150.59it/s]\n"
     ]
    }
   ],
   "source": [
    "preprocessed_titles = preprocess_text(data_train['project_title'].values)\n",
    "data['project_title'] = preprocessed_titles"
   ]
  },
  {
   "cell_type": "markdown",
   "metadata": {},
   "source": [
    "Preprocessing **essay**"
   ]
  },
  {
   "cell_type": "code",
   "execution_count": 5,
   "metadata": {},
   "outputs": [
    {
     "name": "stderr",
     "output_type": "stream",
     "text": [
      "100%|██████████| 50000/50000 [00:33<00:00, 1505.75it/s]\n"
     ]
    }
   ],
   "source": [
    "preprocessed_essays = preprocess_text(data['essay'].values)\n",
    "data['preprocessed_essays'] = preprocessed_essays"
   ]
  },
  {
   "cell_type": "markdown",
   "metadata": {},
   "source": [
    "#### 1.1 Setting up target variable"
   ]
  },
  {
   "cell_type": "code",
   "execution_count": 6,
   "metadata": {},
   "outputs": [],
   "source": [
    "y = data['project_is_approved']\n",
    "X = data.drop(['project_is_approved', 'essay'], axis=1)"
   ]
  },
  {
   "cell_type": "code",
   "execution_count": 7,
   "metadata": {},
   "outputs": [
    {
     "data": {
      "text/plain": [
       "array(['school_state', 'teacher_prefix', 'project_grade_category',\n",
       "       'teacher_number_of_previously_posted_projects', 'clean_categories',\n",
       "       'clean_subcategories', 'price', 'project_title',\n",
       "       'preprocessed_essays'], dtype=object)"
      ]
     },
     "execution_count": 7,
     "metadata": {},
     "output_type": "execute_result"
    }
   ],
   "source": [
    "X.columns.values"
   ]
  },
  {
   "cell_type": "markdown",
   "metadata": {
    "colab_type": "text",
    "id": "WtVV13Fyb3dH"
   },
   "source": [
    "<h2>1.2 Splitting data into Train and cross validation(or test): Stratified Sampling</h2>"
   ]
  },
  {
   "cell_type": "code",
   "execution_count": 8,
   "metadata": {},
   "outputs": [],
   "source": [
    "from sklearn.model_selection import train_test_split\n",
    "X_train, X_test, y_train, y_test = train_test_split(X, y, test_size = 0.33, stratify = y )\n",
    "#X_train, X_cv, y_train, y_cv = train_test_split(X_train, y_train, test_size = 0.33, stratify = y_train)\n",
    "#print('length of X_train is {0}, X_cv is {2} and X_test is {1}'.format(len(X_train), len(X_test), len(X_cv)))"
   ]
  },
  {
   "cell_type": "code",
   "execution_count": 9,
   "metadata": {},
   "outputs": [
    {
     "data": {
      "text/html": [
       "<div>\n",
       "<style scoped>\n",
       "    .dataframe tbody tr th:only-of-type {\n",
       "        vertical-align: middle;\n",
       "    }\n",
       "\n",
       "    .dataframe tbody tr th {\n",
       "        vertical-align: top;\n",
       "    }\n",
       "\n",
       "    .dataframe thead th {\n",
       "        text-align: right;\n",
       "    }\n",
       "</style>\n",
       "<table border=\"1\" class=\"dataframe\">\n",
       "  <thead>\n",
       "    <tr style=\"text-align: right;\">\n",
       "      <th></th>\n",
       "      <th>school_state</th>\n",
       "      <th>teacher_prefix</th>\n",
       "      <th>project_grade_category</th>\n",
       "      <th>teacher_number_of_previously_posted_projects</th>\n",
       "      <th>clean_categories</th>\n",
       "      <th>clean_subcategories</th>\n",
       "      <th>price</th>\n",
       "      <th>project_title</th>\n",
       "      <th>preprocessed_essays</th>\n",
       "    </tr>\n",
       "  </thead>\n",
       "  <tbody>\n",
       "    <tr>\n",
       "      <th>45413</th>\n",
       "      <td>ut</td>\n",
       "      <td>mrs</td>\n",
       "      <td>grades_6_8</td>\n",
       "      <td>27</td>\n",
       "      <td>music_arts</td>\n",
       "      <td>music</td>\n",
       "      <td>359.24</td>\n",
       "      <td>computers stem achievement math</td>\n",
       "      <td>always remember enormous grins beaming faces s...</td>\n",
       "    </tr>\n",
       "    <tr>\n",
       "      <th>25046</th>\n",
       "      <td>az</td>\n",
       "      <td>ms</td>\n",
       "      <td>grades_prek_2</td>\n",
       "      <td>6</td>\n",
       "      <td>health_sports specialneeds</td>\n",
       "      <td>health_wellness specialneeds</td>\n",
       "      <td>611.82</td>\n",
       "      <td>project based learning calculus brings math life</td>\n",
       "      <td>classroom full youngsters excited learning gro...</td>\n",
       "    </tr>\n",
       "  </tbody>\n",
       "</table>\n",
       "</div>"
      ],
      "text/plain": [
       "      school_state teacher_prefix project_grade_category  \\\n",
       "45413           ut            mrs             grades_6_8   \n",
       "25046           az             ms          grades_prek_2   \n",
       "\n",
       "       teacher_number_of_previously_posted_projects  \\\n",
       "45413                                            27   \n",
       "25046                                             6   \n",
       "\n",
       "                 clean_categories           clean_subcategories   price  \\\n",
       "45413                  music_arts                         music  359.24   \n",
       "25046  health_sports specialneeds  health_wellness specialneeds  611.82   \n",
       "\n",
       "                                          project_title  \\\n",
       "45413                   computers stem achievement math   \n",
       "25046  project based learning calculus brings math life   \n",
       "\n",
       "                                     preprocessed_essays  \n",
       "45413  always remember enormous grins beaming faces s...  \n",
       "25046  classroom full youngsters excited learning gro...  "
      ]
     },
     "execution_count": 9,
     "metadata": {},
     "output_type": "execute_result"
    }
   ],
   "source": [
    "X_train.head(2)"
   ]
  },
  {
   "cell_type": "markdown",
   "metadata": {
    "colab_type": "text",
    "id": "EnZwVNULb3dO"
   },
   "source": [
    "<h3>2 Make Data Model Ready: encoding eassay, and project_title</h2>"
   ]
  },
  {
   "cell_type": "markdown",
   "metadata": {},
   "source": [
    "#### 2.1 BOW"
   ]
  },
  {
   "cell_type": "code",
   "execution_count": 10,
   "metadata": {},
   "outputs": [
    {
     "name": "stdout",
     "output_type": "stream",
     "text": [
      "After vectorizations\n",
      "(33500, 5000) (33500,)\n",
      "(16500, 5000) (16500,)\n"
     ]
    }
   ],
   "source": [
    "from sklearn.feature_extraction.text import CountVectorizer\n",
    "vectorizer = CountVectorizer(min_df=10,ngram_range=(1,4), max_features=5000)\n",
    "vectorizer.fit(X_train['preprocessed_essays'].values)\n",
    "\n",
    "X_train_essay_bow = vectorizer.transform(X_train['preprocessed_essays'].values)\n",
    "#X_cv_essay_bow    = vectorizer.transform(X_cv['preprocessed_essays'].values)\n",
    "X_test_essay_bow  = vectorizer.transform(X_test['preprocessed_essays'].values)\n",
    "\n",
    "print(\"After vectorizations\")\n",
    "print(X_train_essay_bow.shape, y_train.shape)\n",
    "#print(X_cv_essay_bow.shape, y_cv.shape)\n",
    "print(X_test_essay_bow.shape, y_test.shape)\n",
    "\n",
    "essay_features_BOW = vectorizer.get_feature_names()"
   ]
  },
  {
   "cell_type": "markdown",
   "metadata": {},
   "source": [
    "Similarly for **project_title**"
   ]
  },
  {
   "cell_type": "code",
   "execution_count": 11,
   "metadata": {},
   "outputs": [
    {
     "name": "stdout",
     "output_type": "stream",
     "text": [
      "After vectorizations\n",
      "(33500, 5004) (33500,)\n",
      "(16500, 5004) (16500,)\n"
     ]
    }
   ],
   "source": [
    "from sklearn.feature_extraction.text import CountVectorizer\n",
    "vectorizer = CountVectorizer(min_df=5,ngram_range=(1,4), max_features=None)\n",
    "vectorizer.fit(X_train['project_title'].values)\n",
    "\n",
    "X_train_title_bow = vectorizer.transform(X_train['project_title'].values)\n",
    "#X_cv_title_bow    = vectorizer.transform(X_cv['project_title'].values)\n",
    "X_test_title_bow  = vectorizer.transform(X_test['project_title'].values)\n",
    "\n",
    "print(\"After vectorizations\")\n",
    "print(X_train_title_bow.shape, y_train.shape)\n",
    "#print(X_cv_title_bow.shape, y_cv.shape)\n",
    "print(X_test_title_bow.shape, y_test.shape)\n",
    "\n",
    "title_features_BOW = vectorizer.get_feature_names()"
   ]
  },
  {
   "cell_type": "markdown",
   "metadata": {},
   "source": [
    "#### 2.2 TFIDF"
   ]
  },
  {
   "cell_type": "code",
   "execution_count": 12,
   "metadata": {},
   "outputs": [
    {
     "name": "stdout",
     "output_type": "stream",
     "text": [
      "After vectorizations\n",
      "(33500, 10270) (33500,)\n",
      "(16500, 10270) (16500,)\n"
     ]
    }
   ],
   "source": [
    "from sklearn.feature_extraction.text import TfidfVectorizer\n",
    "vectorizer = TfidfVectorizer(min_df=10)\n",
    "vectorizer.fit(X_train['preprocessed_essays'].values)\n",
    "\n",
    "X_train_essay_tfidf = vectorizer.transform(X_train['preprocessed_essays'].values)\n",
    "#X_cv_essay_tfidf    = vectorizer.transform(X_cv['preprocessed_essays'].values)\n",
    "X_test_essay_tfidf  = vectorizer.transform(X_test['preprocessed_essays'].values)\n",
    "\n",
    "print(\"After vectorizations\")\n",
    "print(X_train_essay_tfidf.shape, y_train.shape)\n",
    "#print(X_cv_essay_tfidf.shape, y_cv.shape)\n",
    "print(X_test_essay_tfidf.shape, y_test.shape)\n",
    " \n",
    "essay_features_tfidf = vectorizer.get_feature_names()"
   ]
  },
  {
   "cell_type": "markdown",
   "metadata": {},
   "source": [
    "#### 2.3 Repeat same steps for project titles\n"
   ]
  },
  {
   "cell_type": "code",
   "execution_count": 13,
   "metadata": {},
   "outputs": [
    {
     "name": "stdout",
     "output_type": "stream",
     "text": [
      "After vectorizations\n",
      "(33500, 2563) (33500,)\n",
      "(16500, 2563) (16500,)\n"
     ]
    }
   ],
   "source": [
    "from sklearn.feature_extraction.text import TfidfVectorizer\n",
    "vectorizer = TfidfVectorizer(min_df=5)\n",
    "vectorizer.fit(X_train['project_title'].values)\n",
    "\n",
    "X_train_title_tfidf = vectorizer.transform(X_train['project_title'].values)\n",
    "#X_cv_title_tfidf    = vectorizer.transform(X_cv['project_title'].values)\n",
    "X_test_title_tfidf  = vectorizer.transform(X_test['project_title'].values)\n",
    "\n",
    "print(\"After vectorizations\")\n",
    "print(X_train_title_tfidf.shape, y_train.shape)\n",
    "#print(X_cv_title_tfidf.shape, y_cv.shape)\n",
    "print(X_test_title_tfidf.shape, y_test.shape)\n",
    " \n",
    "title_features_tfidf = vectorizer.get_feature_names()"
   ]
  },
  {
   "cell_type": "markdown",
   "metadata": {},
   "source": [
    "____"
   ]
  },
  {
   "cell_type": "markdown",
   "metadata": {
    "colab_type": "text",
    "id": "bGy86kgHb3dX"
   },
   "source": [
    "<h2>2.4 Make Data Model Ready: encoding numerical, categorical features</h2>"
   ]
  },
  {
   "cell_type": "markdown",
   "metadata": {
    "colab_type": "text",
    "id": "hbO3ewp-7lHk"
   },
   "source": [
    "<h3>2.4.1 encoding categorical features: School State</h3>"
   ]
  },
  {
   "cell_type": "code",
   "execution_count": 14,
   "metadata": {},
   "outputs": [
    {
     "name": "stdout",
     "output_type": "stream",
     "text": [
      "After vectorizations\n",
      "(33500, 51) (33500,)\n",
      "(16500, 51) (16500,)\n",
      "['ak', 'al', 'ar', 'az', 'ca', 'co', 'ct', 'dc', 'de', 'fl', 'ga', 'hi', 'ia', 'id', 'il', 'in', 'ks', 'ky', 'la', 'ma', 'md', 'me', 'mi', 'mn', 'mo', 'ms', 'mt', 'nc', 'nd', 'ne', 'nh', 'nj', 'nm', 'nv', 'ny', 'oh', 'ok', 'or', 'pa', 'ri', 'sc', 'sd', 'tn', 'tx', 'ut', 'va', 'vt', 'wa', 'wi', 'wv', 'wy']\n",
      "====================================================================================================\n"
     ]
    }
   ],
   "source": [
    "#CODE Reference:Notebook 5_Reference_SampleSolution by AAIC\n",
    "vectorizer = CountVectorizer()\n",
    "vectorizer.fit(X_train['school_state'].values) # fit has to happen only on train data\n",
    "\n",
    "# we use the fitted CountVectorizer to convert the text to vector\n",
    "X_train_state_ohe = vectorizer.transform(X_train['school_state'].values)\n",
    "#X_cv_state_ohe = vectorizer.transform(X_cv['school_state'].values)\n",
    "X_test_state_ohe = vectorizer.transform(X_test['school_state'].values)\n",
    "\n",
    "print(\"After vectorizations\")\n",
    "print(X_train_state_ohe.shape, y_train.shape)\n",
    "#print(X_cv_state_ohe.shape, y_cv.shape)\n",
    "print(X_test_state_ohe.shape, y_test.shape)\n",
    "print(vectorizer.get_feature_names())\n",
    "print(\"=\"*100)\n",
    "school_state_BOW = vectorizer.get_feature_names()"
   ]
  },
  {
   "cell_type": "markdown",
   "metadata": {
    "colab_type": "text",
    "id": "1G-HBVM77lHr"
   },
   "source": [
    "<h3>2.4.2 encoding categorical features: teacher_prefix</h3>"
   ]
  },
  {
   "cell_type": "code",
   "execution_count": 15,
   "metadata": {},
   "outputs": [
    {
     "name": "stdout",
     "output_type": "stream",
     "text": [
      "After vectorizations\n",
      "(33500, 5) (33500,)\n",
      "(16500, 5) (16500,)\n",
      "['dr', 'mr', 'mrs', 'ms', 'teacher']\n",
      "====================================================================================================\n"
     ]
    }
   ],
   "source": [
    "vectorizer = CountVectorizer()\n",
    "vectorizer.fit(X_train['teacher_prefix'].values) # fit has to happen only on train data\n",
    "\n",
    "# we use the fitted CountVectorizer to convert the text to vector\n",
    "X_train_teacher_ohe = vectorizer.transform(X_train['teacher_prefix'].values)\n",
    "#X_cv_teacher_ohe = vectorizer.transform(X_cv['teacher_prefix'].values)\n",
    "X_test_teacher_ohe = vectorizer.transform(X_test['teacher_prefix'].values)\n",
    "\n",
    "print(\"After vectorizations\")\n",
    "print(X_train_teacher_ohe.shape, y_train.shape)\n",
    "#print(X_cv_teacher_ohe.shape, y_cv.shape)\n",
    "print(X_test_teacher_ohe.shape, y_test.shape)\n",
    "print(vectorizer.get_feature_names())\n",
    "print(\"=\"*100)\n",
    "\n",
    "teacher_prefix_BOW = vectorizer.get_feature_names()"
   ]
  },
  {
   "cell_type": "markdown",
   "metadata": {
    "colab_type": "text",
    "id": "vN2DT_az7lHz"
   },
   "source": [
    "<h3>2.4.3 encoding categorical features: project_grade_category</h3>"
   ]
  },
  {
   "cell_type": "code",
   "execution_count": 16,
   "metadata": {},
   "outputs": [
    {
     "name": "stdout",
     "output_type": "stream",
     "text": [
      "After vectorizations\n",
      "(33500, 4) (33500,)\n",
      "(16500, 4) (16500,)\n",
      "['grades_3_5', 'grades_6_8', 'grades_9_12', 'grades_prek_2']\n",
      "====================================================================================================\n"
     ]
    }
   ],
   "source": [
    "vectorizer = CountVectorizer()\n",
    "vectorizer.fit(X_train['project_grade_category'].values) # fit has to happen only on train data\n",
    "\n",
    "# we use the fitted CountVectorizer to convert the text to vector\n",
    "X_train_grade_ohe = vectorizer.transform(X_train['project_grade_category'].values)\n",
    "#X_cv_grade_ohe = vectorizer.transform(X_cv['project_grade_category'].values)\n",
    "X_test_grade_ohe = vectorizer.transform(X_test['project_grade_category'].values)\n",
    "\n",
    "print(\"After vectorizations\")\n",
    "print(X_train_grade_ohe.shape, y_train.shape)\n",
    "#print(X_cv_grade_ohe.shape, y_cv.shape)\n",
    "print(X_test_grade_ohe.shape, y_test.shape)\n",
    "print(vectorizer.get_feature_names())\n",
    "print(\"=\"*100)\n",
    "\n",
    "project_grade_cat_BOW = vectorizer.get_feature_names()"
   ]
  },
  {
   "cell_type": "markdown",
   "metadata": {},
   "source": [
    "### 2.4.4 Preprocessing Categorical Features:clean_categories"
   ]
  },
  {
   "cell_type": "code",
   "execution_count": 17,
   "metadata": {},
   "outputs": [
    {
     "name": "stdout",
     "output_type": "stream",
     "text": [
      "After vectorizations\n",
      "(33500, 9) (33500,)\n",
      "(16500, 9) (16500,)\n",
      "['appliedlearning', 'care_hunger', 'health_sports', 'history_civics', 'literacy_language', 'math_science', 'music_arts', 'specialneeds', 'warmth']\n"
     ]
    }
   ],
   "source": [
    "vectorizer.fit(X_train['clean_categories'].values)\n",
    "\n",
    "X_train_cleancat_ohe = vectorizer.transform(X_train['clean_categories'].values)\n",
    "#X_cv_cleancat_ohe    = vectorizer.transform(X_cv['clean_categories'].values)\n",
    "X_test_cleancat_ohe  = vectorizer.transform(X_test['clean_categories'].values)\n",
    "\n",
    "print(\"After vectorizations\")\n",
    "print(X_train_cleancat_ohe.shape, y_train.shape)\n",
    "#print(X_cv_cleancat_ohe.shape, y_cv.shape)\n",
    "print(X_test_cleancat_ohe.shape, y_test.shape)\n",
    "print(vectorizer.get_feature_names())\n",
    "\n",
    "clean_cat_BOW = vectorizer.get_feature_names()"
   ]
  },
  {
   "cell_type": "markdown",
   "metadata": {},
   "source": [
    "### 2.4.5 Preprocessing Categorical Features:clean_subcategories"
   ]
  },
  {
   "cell_type": "code",
   "execution_count": 18,
   "metadata": {},
   "outputs": [
    {
     "name": "stdout",
     "output_type": "stream",
     "text": [
      "After vectorizations\n",
      "(33500, 30) (33500,)\n",
      "(16500, 30) (16500,)\n",
      "['appliedsciences', 'care_hunger', 'charactereducation', 'civics_government', 'college_careerprep', 'communityservice', 'earlydevelopment', 'economics', 'environmentalscience', 'esl', 'extracurricular', 'financialliteracy', 'foreignlanguages', 'gym_fitness', 'health_lifescience', 'health_wellness', 'history_geography', 'literacy', 'literature_writing', 'mathematics', 'music', 'nutritioneducation', 'other', 'parentinvolvement', 'performingarts', 'socialsciences', 'specialneeds', 'teamsports', 'visualarts', 'warmth']\n"
     ]
    }
   ],
   "source": [
    "vectorizer.fit(X_train['clean_subcategories'].values)\n",
    "\n",
    "X_train_cleansubcat_ohe = vectorizer.transform(X_train['clean_subcategories'].values)\n",
    "#X_cv_cleansubcat_ohe    = vectorizer.transform(X_cv['clean_subcategories'].values)\n",
    "X_test_cleansubcat_ohe  = vectorizer.transform(X_test['clean_subcategories'].values)\n",
    "\n",
    "print(\"After vectorizations\")\n",
    "print(X_train_cleansubcat_ohe.shape, y_train.shape)\n",
    "#print(X_cv_cleansubcat_ohe.shape, y_cv.shape)\n",
    "print(X_test_cleansubcat_ohe.shape, y_test.shape)\n",
    "print(vectorizer.get_feature_names())\n",
    "\n",
    "clean_subcat_BOW = vectorizer.get_feature_names()"
   ]
  },
  {
   "cell_type": "markdown",
   "metadata": {},
   "source": [
    "### 2.4.6 Preprocessing Numerical Features: teacher_number_of_previously_posted_projects"
   ]
  },
  {
   "cell_type": "code",
   "execution_count": 19,
   "metadata": {},
   "outputs": [],
   "source": [
    "from sklearn.preprocessing import Normalizer"
   ]
  },
  {
   "cell_type": "code",
   "execution_count": 20,
   "metadata": {},
   "outputs": [
    {
     "name": "stdout",
     "output_type": "stream",
     "text": [
      "After vectorizations\n",
      "(33500, 1) (33500,)\n",
      "(16500, 1) (16500,)\n",
      "====================================================================================================\n"
     ]
    }
   ],
   "source": [
    "#CODE Reference:Notebook 5_Reference_SampleSolution by AAIC\n",
    "normalizer = Normalizer()\n",
    "normalizer.fit(X_train['teacher_number_of_previously_posted_projects'].values.reshape(-1, 1))\n",
    "\n",
    "X_train_teacherprojects_norm = normalizer.transform(X_train['teacher_number_of_previously_posted_projects'].values.reshape(-1,1))\n",
    "#X_cv_teacherprojects_norm    = normalizer.transform(X_cv['teacher_number_of_previously_posted_projects'].values.reshape(-1,1))\n",
    "X_test_teacherprojects_norm  = normalizer.transform(X_test['teacher_number_of_previously_posted_projects'].values.reshape(-1,1))\n",
    "\n",
    "print(\"After vectorizations\")\n",
    "print(X_train_teacherprojects_norm.shape, y_train.shape)\n",
    "#print(X_cv_teacherprojects_norm.shape, y_cv.shape)\n",
    "print(X_test_teacherprojects_norm.shape, y_test.shape)\n",
    "print(\"=\"*100)\n",
    "\n",
    "teacherproj_feature =['teacher_number_of_previously_posted_projects']\n"
   ]
  },
  {
   "cell_type": "markdown",
   "metadata": {},
   "source": [
    "### 2.4.7 Preprocessing Numerical Features: price"
   ]
  },
  {
   "cell_type": "code",
   "execution_count": 21,
   "metadata": {},
   "outputs": [
    {
     "name": "stdout",
     "output_type": "stream",
     "text": [
      "After vectorizations\n",
      "(33500, 1) (33500,)\n",
      "(16500, 1) (16500,)\n",
      "====================================================================================================\n"
     ]
    }
   ],
   "source": [
    "from sklearn.preprocessing import Normalizer\n",
    "normalizer = Normalizer()\n",
    "normalizer.fit(X_train['price'].values.reshape(-1,1))\n",
    "\n",
    "X_train_price_norm = normalizer.transform(X_train['price'].values.reshape(-1,1))\n",
    "#X_cv_price_norm = normalizer.transform(X_cv['price'].values.reshape(-1,1))\n",
    "X_test_price_norm = normalizer.transform(X_test['price'].values.reshape(-1,1))\n",
    "\n",
    "print(\"After vectorizations\")\n",
    "print(X_train_price_norm.shape, y_train.shape)\n",
    "#print(X_cv_price_norm.shape, y_cv.shape)\n",
    "print(X_test_price_norm.shape, y_test.shape)\n",
    "print(\"=\"*100)\n",
    "\n",
    "price_feature = ['price']"
   ]
  },
  {
   "cell_type": "markdown",
   "metadata": {},
   "source": [
    "### 3 Concatenating all the features:"
   ]
  },
  {
   "cell_type": "markdown",
   "metadata": {},
   "source": [
    "**A. Appending all the features names**"
   ]
  },
  {
   "cell_type": "code",
   "execution_count": 22,
   "metadata": {},
   "outputs": [
    {
     "name": "stdout",
     "output_type": "stream",
     "text": [
      "Number of features with BOW 10105\n",
      "Number of features with TFIDF 12934\n"
     ]
    }
   ],
   "source": [
    "from itertools import chain\n",
    "all_features_BOW = list(chain(essay_features_BOW, school_state_BOW, teacher_prefix_BOW, \n",
    "                          project_grade_cat_BOW, clean_cat_BOW, clean_subcat_BOW, \n",
    "                          teacherproj_feature, price_feature, title_features_BOW))\n",
    "print(\"Number of features with BOW\", len(all_features_BOW))\n",
    "\n",
    "all_features_TFIDF = list(chain(essay_features_tfidf, school_state_BOW, teacher_prefix_BOW, \n",
    "                          project_grade_cat_BOW, clean_cat_BOW, clean_subcat_BOW, \n",
    "                          teacherproj_feature, price_feature, title_features_tfidf))\n",
    "print(\"Number of features with TFIDF\", len(all_features_TFIDF))"
   ]
  },
  {
   "cell_type": "markdown",
   "metadata": {},
   "source": [
    "#### <font color = 'red'> NOTE:  Need to maintain same order while creating hstack\n",
    "</font>"
   ]
  },
  {
   "cell_type": "markdown",
   "metadata": {},
   "source": [
    " As we have encoded all the required features into sparse matrix, next step we want to do is to concatenate everything indo single data matrix.\n",
    " \n",
    " \n",
    "    scipy.sparse.csr_matrix\n",
    "    class scipy.sparse.csr_matrix(arg1, shape=None, dtype=None, copy=False)\n",
    "    Compressed Sparse Row matrix"
   ]
  },
  {
   "cell_type": "code",
   "execution_count": 23,
   "metadata": {},
   "outputs": [],
   "source": [
    "from scipy.sparse import hstack"
   ]
  },
  {
   "cell_type": "markdown",
   "metadata": {},
   "source": [
    "**For BOW**"
   ]
  },
  {
   "cell_type": "code",
   "execution_count": 24,
   "metadata": {},
   "outputs": [
    {
     "name": "stdout",
     "output_type": "stream",
     "text": [
      "Final Data matrix\n",
      "(33500, 10105) (33500,)\n",
      "(16500, 10105) (16500,)\n",
      "====================================================================================================\n"
     ]
    }
   ],
   "source": [
    "X_tr = hstack((X_train_essay_bow, X_train_state_ohe, X_train_teacher_ohe, X_train_grade_ohe, \n",
    "               X_train_cleancat_ohe, X_train_cleansubcat_ohe, X_train_teacherprojects_norm, \n",
    "               X_train_price_norm, X_train_title_bow), ).tocsr()\n",
    "#X_cv = hstack((X_cv_essay_bow, X_cv_state_ohe, X_cv_teacher_ohe, X_cv_grade_ohe, \n",
    "               #X_cv_cleancat_ohe, X_cv_cleansubcat_ohe, X_cv_teacherprojects_norm, \n",
    "               #X_cv_price_norm, X_cv_title_bow), ).tocsr()\n",
    "X_te = hstack((X_test_essay_bow, X_test_state_ohe, X_test_teacher_ohe, X_test_grade_ohe, \n",
    "               X_test_cleancat_ohe, X_test_cleansubcat_ohe, X_test_teacherprojects_norm, \n",
    "               X_test_price_norm, X_test_title_bow), ).tocsr()\n",
    "\n",
    "\n",
    "print(\"Final Data matrix\")\n",
    "print(X_tr.shape, y_train.shape)\n",
    "#print(X_cv.shape, y_cv.shape)\n",
    "print(X_te.shape, y_test.shape)\n",
    "print(\"=\"*100)"
   ]
  },
  {
   "cell_type": "markdown",
   "metadata": {},
   "source": [
    "**For TFIDF**"
   ]
  },
  {
   "cell_type": "code",
   "execution_count": 25,
   "metadata": {},
   "outputs": [
    {
     "name": "stdout",
     "output_type": "stream",
     "text": [
      "Final Data matrix\n",
      "(33500, 12934) (33500,)\n",
      "(16500, 12934) (16500,)\n",
      "====================================================================================================\n"
     ]
    }
   ],
   "source": [
    "X_tr_tfidf = hstack((X_train_essay_tfidf, X_train_state_ohe, X_train_teacher_ohe, X_train_grade_ohe, \n",
    "                     X_train_cleancat_ohe, X_train_cleansubcat_ohe, X_train_teacherprojects_norm, \n",
    "                     X_train_price_norm, X_train_title_tfidf), ).tocsr()\n",
    "#X_cv_tfidf = hstack((X_cv_essay_tfidf, X_cv_state_ohe, X_cv_teacher_ohe, X_cv_grade_ohe, \n",
    "                     #X_cv_cleancat_ohe, X_cv_cleansubcat_ohe, X_cv_teacherprojects_norm, \n",
    "                     #X_cv_price_norm, X_cv_title_tfidf), ).tocsr()\n",
    "X_te_tfidf = hstack((X_test_essay_tfidf, X_test_state_ohe, X_test_teacher_ohe, X_test_grade_ohe, \n",
    "                     X_test_cleancat_ohe, X_test_cleansubcat_ohe, X_test_teacherprojects_norm, \n",
    "                     X_test_price_norm, X_test_title_tfidf), ).tocsr()\n",
    "\n",
    "\n",
    "print(\"Final Data matrix\")\n",
    "print(X_tr_tfidf.shape, y_train.shape)\n",
    "#print(X_cv_tfidf.shape, y_cv.shape)\n",
    "print(X_te_tfidf.shape, y_test.shape)\n",
    "print(\"=\"*100)"
   ]
  },
  {
   "cell_type": "markdown",
   "metadata": {},
   "source": [
    "### 5. Appling NB on different kind of featurization as mentioned in the instructions\n",
    " "
   ]
  },
  {
   "cell_type": "markdown",
   "metadata": {},
   "source": [
    "**Instructions**"
   ]
  },
  {
   "cell_type": "markdown",
   "metadata": {
    "colab_type": "text",
    "id": "12krXa2pb3c1"
   },
   "source": [
    "<ol>\n",
    "    <li><strong>Apply Multinomial NB on these feature sets</strong>\n",
    "        <ul>\n",
    "            <li><font color='red'>Set 1</font>: categorical, numerical features + project_title(BOW) + preprocessed_eassay (BOW)</li>\n",
    "            <li><font color='red'>Set 2</font>: categorical, numerical features + project_title(TFIDF)+  preprocessed_eassay (TFIDF)</li>\n",
    "        </ul>\n",
    "    </li>\n",
    "    <li><strong>The hyper paramter tuning(find best alpha:smoothing parameter)</strong>\n",
    "        <ul>\n",
    "    <li>Find the best hyper parameter which will give the maximum <a href='https://www.appliedaicourse.com/course/applied-ai-course-online/lessons/receiver-operating-characteristic-curve-roc-curve-and-auc-1/'>AUC</a> value</li>\n",
    "    <li>find the best hyper paramter using k-fold cross validation(use GridsearchCV or RandomsearchCV)/simple cross validation data (write for loop to iterate over hyper parameter values)</li>\n",
    "    <li></li>\n",
    "        </ul>\n",
    "    </li>\n",
    "    <li>\n",
    "    <strong>Representation of results</strong>\n",
    "  -You need to plot the performance of model both on train data and cross validation data for each hyper parameter.\n",
    "        Once after you found the best hyper parameter, you need to train your model with it, and find the AUC on test data and plot the ROC curve on both train and test."
   ]
  },
  {
   "cell_type": "markdown",
   "metadata": {},
   "source": [
    "# FOR BOW"
   ]
  },
  {
   "cell_type": "markdown",
   "metadata": {},
   "source": [
    "#### A. Using MultinomialNB on BOW featurization"
   ]
  },
  {
   "cell_type": "code",
   "execution_count": 26,
   "metadata": {},
   "outputs": [
    {
     "name": "stdout",
     "output_type": "stream",
     "text": [
      "Best cross-validation score: 0.69\n",
      "Best parameters:  {'alpha': 2}\n"
     ]
    },
    {
     "data": {
      "image/png": "[encoded data removed]",
      "text/plain": [
       "<Figure size 432x288 with 1 Axes>"
      ]
     },
     "metadata": {
      "needs_background": "light"
     },
     "output_type": "display_data"
    }
   ],
   "source": [
    "#CODE Reference:Notebook 5_Reference_SampleSolution by AAIC\n",
    "from sklearn.model_selection import GridSearchCV\n",
    "from scipy.stats import randint as sp_randint\n",
    "from sklearn.model_selection import RandomizedSearchCV\n",
    "from sklearn.naive_bayes import MultinomialNB\n",
    "import matplotlib.pyplot as plt\n",
    "\n",
    "\n",
    "naive_bayes= MultinomialNB()\n",
    "parameters = {'alpha': [0.001, 0.01, 0.1, 0.5, 0.8, 1, 2, 5, 10, 25, 35]}\n",
    "\n",
    "clf_randomsearch = RandomizedSearchCV(naive_bayes, parameters, cv=3, scoring='roc_auc',return_train_score=True)\n",
    "clf_randomsearch.fit(X_tr, y_train)\n",
    "\n",
    "print(\"Best cross-validation score: {:.2f}\".format(clf_randomsearch.best_score_))\n",
    "print(\"Best parameters: \", clf_randomsearch.best_params_)\n",
    "\n",
    "results = pd.DataFrame.from_dict(clf_randomsearch.cv_results_)\n",
    "results = results.sort_values('param_alpha')\n",
    "#print(results[0:3])\n",
    "\n",
    "train_auc_BOW= results['mean_train_score']\n",
    "train_auc_std_BOW= results['std_train_score']\n",
    "cv_auc_BOW = results['mean_test_score'] \n",
    "cv_auc_std_BOW= results['std_test_score']\n",
    "alpha_BOW =  results['param_alpha']\n",
    "\n",
    "\n",
    "plt.plot(alpha_BOW, train_auc_BOW, label='BOW Train AUC')\n",
    "# this code is copied from here: https://stackoverflow.com/a/48803361/4084039\n",
    "# plt.gca().fill_between(K, train_auc - train_auc_std,train_auc + train_auc_std,alpha=0.2,color='darkblue')\n",
    "\n",
    "plt.plot(alpha_BOW, cv_auc_BOW, label='BOW CV AUC')\n",
    "# this code is copied from here: https://stackoverflow.com/a/48803361/4084039\n",
    "# plt.gca().fill_between(K, cv_auc - cv_auc_std,cv_auc + cv_auc_std,alpha=0.2,color='darkorange')\n",
    "\n",
    "plt.scatter(alpha_BOW, train_auc_BOW, label='Train AUC points BOW')\n",
    "plt.scatter(alpha_BOW, cv_auc_BOW, label='CV AUC points BOW')\n",
    "\n",
    "\n",
    "plt.legend()\n",
    "plt.xlabel(\"Alpha BOW: hyperparameter\")\n",
    "plt.ylabel(\"AUC BOW \")\n",
    "plt.title(\"BOW Hyper parameter Vs AUC plot\")\n",
    "plt.grid()\n",
    "plt.show()\n",
    "\n",
    "BOW_best_score = clf_randomsearch.best_score_\n",
    "BOW_best_alpha = clf_randomsearch.best_params_\n",
    "BOW_best_alpha = BOW_best_alpha.get('alpha')\n",
    "\n",
    "#results.head()"
   ]
  },
  {
   "cell_type": "markdown",
   "metadata": {},
   "source": [
    "**Training model with best alpha**"
   ]
  },
  {
   "cell_type": "code",
   "execution_count": 27,
   "metadata": {},
   "outputs": [
    {
     "data": {
      "image/png": "[encoded data removed]",
      "text/plain": [
       "<Figure size 432x288 with 1 Axes>"
      ]
     },
     "metadata": {
      "needs_background": "light"
     },
     "output_type": "display_data"
    }
   ],
   "source": [
    "#CODE Reference:Notebook 5_Reference_SampleSolution by AAIC\n",
    "# https://scikit-learn.org/stable/modules/generated/sklearn.metrics.roc_curve.html#sklearn.metrics.roc_curve\n",
    "from sklearn.metrics import roc_curve, auc\n",
    "\n",
    "best_alpha = clf_randomsearch.best_params_\n",
    "best_alpha = best_alpha.get('alpha')\n",
    "\n",
    "naive_bayes = MultinomialNB(alpha=best_alpha)\n",
    "naive_bayes.fit(X_tr, y_train)\n",
    "# roc_auc_score(y_true, y_score) the 2nd parameter should be probability estimates of the positive class\n",
    "# not the predicted outputs\n",
    "\n",
    "y_train_pred = naive_bayes.predict_proba(X_tr)[:,1]    \n",
    "y_test_pred = naive_bayes.predict_proba(X_te)[:,1]\n",
    "\n",
    "train_fpr, train_tpr, tr_thresholds = roc_curve(y_train, y_train_pred)\n",
    "test_fpr, test_tpr, te_thresholds = roc_curve(y_test, y_test_pred)\n",
    "\n",
    "plt.plot(train_fpr, train_tpr, label=\"train AUC =\"+str(auc(train_fpr, train_tpr)))\n",
    "plt.plot(test_fpr, test_tpr, label=\"test AUC =\"+str(auc(test_fpr, test_tpr)))\n",
    "plt.legend()\n",
    "plt.xlabel(\"Alpha BOW: hyperparameter\")\n",
    "plt.ylabel(\"AUC BOW\")\n",
    "plt.title(\"BOW ERROR PLOTS\")\n",
    "plt.grid()\n",
    "plt.show()\n"
   ]
  },
  {
   "cell_type": "markdown",
   "metadata": {},
   "source": [
    "Along with plotting ROC curve, need to print the confusion matrix with predicted and original labels of test data points"
   ]
  },
  {
   "cell_type": "code",
   "execution_count": 28,
   "metadata": {},
   "outputs": [],
   "source": [
    "from sklearn.metrics import roc_curve, auc"
   ]
  },
  {
   "cell_type": "code",
   "execution_count": 29,
   "metadata": {},
   "outputs": [],
   "source": [
    "#CODE Reference:Notebook 5_Reference_SampleSolution by AAIC\n",
    "# we are writing our own function for predict, with defined thresould\n",
    "# we will pick a threshold that will give the least fpr\n",
    "def find_best_threshold(threshould, fpr, tpr):\n",
    "    t = threshould[np.argmax(tpr*(1-fpr))]\n",
    "    # (tpr*(1-fpr)) will be maximum if your fpr is very low and tpr is very high\n",
    "    print(\"the maximum value of tpr*(1-fpr)\", max(tpr*(1-fpr)), \"for threshold\", np.round(t,3))\n",
    "    return t\n",
    "\n",
    "def predict_with_best_t(proba, threshould):\n",
    "    predictions = []\n",
    "    for i in proba:\n",
    "        if i>=threshould:\n",
    "            predictions.append(1)\n",
    "        else:\n",
    "            predictions.append(0)\n",
    "    return predictions"
   ]
  },
  {
   "cell_type": "code",
   "execution_count": 30,
   "metadata": {},
   "outputs": [
    {
     "name": "stdout",
     "output_type": "stream",
     "text": [
      "====================================================================================================\n",
      "the maximum value of tpr*(1-fpr) 0.47815572336214807 for threshold 0.909\n",
      "Train confusion matrix\n",
      "[[ 3821  1544]\n",
      " [ 9246 18889]]\n",
      "--------------------\n",
      "Test confusion matrix\n",
      "[[1651  991]\n",
      " [4698 9160]]\n",
      "====================================================================================================\n"
     ]
    }
   ],
   "source": [
    "print(\"=\"*100)\n",
    "from sklearn.metrics import confusion_matrix\n",
    "best_t = find_best_threshold(tr_thresholds, train_fpr, train_tpr)\n",
    "print(\"Train confusion matrix\")\n",
    "print(confusion_matrix(y_train, predict_with_best_t(y_train_pred, best_t)))\n",
    "print(\"-\"*20)\n",
    "print(\"Test confusion matrix\")\n",
    "print(confusion_matrix(y_test, predict_with_best_t(y_test_pred, best_t)))\n",
    "print(\"=\"*100)"
   ]
  },
  {
   "cell_type": "code",
   "execution_count": null,
   "metadata": {},
   "outputs": [],
   "source": []
  },
  {
   "cell_type": "markdown",
   "metadata": {},
   "source": [
    "# Similarly for TFIDF"
   ]
  },
  {
   "cell_type": "code",
   "execution_count": 31,
   "metadata": {},
   "outputs": [
    {
     "name": "stdout",
     "output_type": "stream",
     "text": [
      "Best cross-validation score: 0.62\n",
      "Best parameters:  {'alpha': 0.1}\n"
     ]
    },
    {
     "data": {
      "image/png": "[encoded data removed]",
      "text/plain": [
       "<Figure size 432x288 with 1 Axes>"
      ]
     },
     "metadata": {
      "needs_background": "light"
     },
     "output_type": "display_data"
    }
   ],
   "source": [
    "#CODE Reference:Notebook 5_Reference_SampleSolution by AAIC\n",
    "from sklearn.model_selection import GridSearchCV\n",
    "from scipy.stats import randint as sp_randint\n",
    "from sklearn.model_selection import RandomizedSearchCV\n",
    "\n",
    "\n",
    "naive_bayes= MultinomialNB()\n",
    "parameters = {'alpha': [0.001, 0.01, 0.1, 0.5, 0.8, 1, 2, 5, 10, 25, 35]}\n",
    "\n",
    "tfidf_randomsearch = RandomizedSearchCV(naive_bayes, parameters, cv=3, scoring='roc_auc',return_train_score=True)\n",
    "tfidf_randomsearch.fit(X_tr_tfidf, y_train)\n",
    "\n",
    "print(\"Best cross-validation score: {:.2f}\".format(tfidf_randomsearch.best_score_))\n",
    "print(\"Best parameters: \", tfidf_randomsearch.best_params_)\n",
    "\n",
    "results = pd.DataFrame.from_dict(tfidf_randomsearch.cv_results_)\n",
    "results = results.sort_values('param_alpha')\n",
    "#print(results[0:3])\n",
    "\n",
    "train_auc_tfidf= results['mean_train_score']\n",
    "train_auc_std_tfidf= results['std_train_score']\n",
    "cv_auc_tfidf = results['mean_test_score'] \n",
    "cv_auc_std_tfidf= results['std_test_score']\n",
    "alpha_tfidf =  results['param_alpha']\n",
    "\n",
    "\n",
    "plt.plot(alpha_tfidf, train_auc_tfidf, label='TFIDF Train AUC')\n",
    "# this code is copied from here: https://stackoverflow.com/a/48803361/4084039\n",
    "# plt.gca().fill_between(K, train_auc - train_auc_std,train_auc + train_auc_std,alpha=0.2,color='darkblue')\n",
    "\n",
    "plt.plot(alpha_tfidf, cv_auc_tfidf, label='TFIDF CV AUC')\n",
    "# this code is copied from here: https://stackoverflow.com/a/48803361/4084039\n",
    "# plt.gca().fill_between(K, cv_auc - cv_auc_std,cv_auc + cv_auc_std,alpha=0.2,color='darkorange')\n",
    "\n",
    "plt.scatter(alpha_tfidf, train_auc_tfidf, label='Train AUC points TFIDF')\n",
    "plt.scatter(alpha_tfidf, cv_auc_tfidf, label='CV AUC points TFIDF')\n",
    "\n",
    "\n",
    "plt.legend()\n",
    "plt.xlabel(\"Alpha TFIDF: hyperparameter\")\n",
    "plt.ylabel(\"AUC TFIDF \")\n",
    "plt.title(\"TFIDF Hyper parameter Vs AUC plot\")\n",
    "plt.grid()\n",
    "plt.show()\n",
    "\n",
    "TFIDF_best_score = tfidf_randomsearch.best_score_\n",
    "TFIDF_best_alpha = tfidf_randomsearch.best_params_\n",
    "TFIDF_best_alpha = TFIDF_best_alpha.get('alpha')\n",
    "\n",
    "#results.head()"
   ]
  },
  {
   "cell_type": "markdown",
   "metadata": {},
   "source": [
    "**Training model with best alpha**"
   ]
  },
  {
   "cell_type": "code",
   "execution_count": 32,
   "metadata": {},
   "outputs": [
    {
     "data": {
      "image/png": "[encoded data removed]",
      "text/plain": [
       "<Figure size 432x288 with 1 Axes>"
      ]
     },
     "metadata": {
      "needs_background": "light"
     },
     "output_type": "display_data"
    }
   ],
   "source": [
    "#CODE Reference:Notebook 5_Reference_SampleSolution by AAIC\n",
    "# https://scikit-learn.org/stable/modules/generated/sklearn.metrics.roc_curve.html#sklearn.metrics.roc_curve\n",
    "from sklearn.metrics import roc_curve, auc\n",
    "\n",
    "tfidf_best_alpha = tfidf_randomsearch.best_params_\n",
    "tfidf_best_alpha = tfidf_best_alpha.get('alpha')\n",
    "\n",
    "naive_bayes = MultinomialNB(alpha=tfidf_best_alpha)\n",
    "naive_bayes.fit(X_tr_tfidf, y_train)\n",
    "# roc_auc_score(y_true, y_score) the 2nd parameter should be probability estimates of the positive class\n",
    "# not the predicted outputs\n",
    "\n",
    "y_train_pred_tfidf = naive_bayes.predict_proba(X_tr_tfidf)[:,1]   \n",
    "y_test_pred_tfidf = naive_bayes.predict_proba(X_te_tfidf)[:,1]\n",
    "\n",
    "train_fpr_tfidf, train_tpr_tfidf, tr_thresholds_tfidf = roc_curve(y_train, y_train_pred_tfidf)\n",
    "test_fpr_tfidf, test_tpr_tfidf, te_thresholds_tfidf = roc_curve(y_test, y_test_pred_tfidf)\n",
    "\n",
    "plt.plot(train_fpr_tfidf, train_tpr_tfidf, label=\" TFIDF train AUC =\"+str(auc(train_fpr_tfidf, train_tpr_tfidf)))\n",
    "plt.plot(test_fpr_tfidf, test_tpr_tfidf, label=\"TFIDF test AUC =\"+str(auc(test_fpr_tfidf, test_tpr_tfidf)))\n",
    "plt.legend()\n",
    "plt.xlabel(\"Alpha TFIDF: hyperparameter\")\n",
    "plt.ylabel(\"AUC TFIDF\")\n",
    "plt.title(\"TFIDF ERROR PLOTS\")\n",
    "plt.grid()\n",
    "plt.show()\n"
   ]
  },
  {
   "cell_type": "markdown",
   "metadata": {},
   "source": [
    "Along with plotting ROC curve, you need to print the confusion matrix with predicted and original labels of test data points"
   ]
  },
  {
   "cell_type": "code",
   "execution_count": 33,
   "metadata": {},
   "outputs": [
    {
     "name": "stdout",
     "output_type": "stream",
     "text": [
      "====================================================================================================\n",
      "the maximum value of tpr*(1-fpr) 0.5683762169847117 for threshold 0.843\n",
      "Train confusion matrix\n",
      "[[ 4147  1218]\n",
      " [ 7447 20688]]\n",
      "--------------------\n",
      "Test confusion matrix\n",
      "[[1376 1266]\n",
      " [4281 9577]]\n",
      "====================================================================================================\n"
     ]
    }
   ],
   "source": [
    "#CODE Reference:Notebook 5_Reference_SampleSolution by AAIC\n",
    "print(\"=\"*100)\n",
    "from sklearn.metrics import confusion_matrix\n",
    "best_t_tfidf = find_best_threshold(tr_thresholds_tfidf, train_fpr_tfidf, train_tpr_tfidf)\n",
    "print(\"Train confusion matrix\")\n",
    "print(confusion_matrix(y_train, predict_with_best_t(y_train_pred_tfidf, best_t_tfidf)))\n",
    "print(\"-\"*20)\n",
    "print(\"Test confusion matrix\")\n",
    "print(confusion_matrix(y_test, predict_with_best_t(y_test_pred_tfidf, best_t_tfidf)))\n",
    "print(\"=\"*100)"
   ]
  },
  {
   "cell_type": "markdown",
   "metadata": {},
   "source": [
    "________"
   ]
  },
  {
   "cell_type": "markdown",
   "metadata": {},
   "source": [
    "**4.TASK:** Find the top 20 features from either from feature Set 1 or feature Set 2 using absolute values of `feature_log_prob_ ` parameter of `MultinomialNB` (https://scikit-learn.org/stable/modules/generated/sklearn.naive_bayes.MultinomialNB.html) and print their corresponding feature names.\n",
    "\n",
    "**Notes**\n",
    "Models like logistic regression, or Naive Bayes algorithm, predict the probabilities of observing some outcomes. In standard binary regression scenario the models give you probability of observing the \"success\" category. In multinomial case, the models return probabilities of observing each of the outcomes. Log probabilities are simply natural logarithms of the predicted probabilities. reference: https://stats.stackexchange.com/questions/266031/what-is-log-probability-of-feature-in-sklearn-multinomialnb\n",
    "\n",
    "\n",
    "    feature_log_prob_ndarray of shape (n_classes, n_features)\n",
    "    Empirical log probability of features given a class, P(x_i|y).\n",
    "    \n",
    "also refer https://stackoverflow.com/questions/50526898/how-to-get-feature-importance-in-naive-bayes"
   ]
  },
  {
   "cell_type": "code",
   "execution_count": 34,
   "metadata": {},
   "outputs": [],
   "source": [
    "def top_features(data, class_labels, all_features , best_alpha, top_required_features = 20):    \n",
    "    naive_bayes = MultinomialNB(best_alpha)\n",
    "    naive_bayes.fit(data, class_labels)\n",
    "    \n",
    "    #Reference: https://stackoverflow.com/questions/50526898/how-to-get-feature-importance-in-naive-bayes\n",
    "    BOW_feature_log_prob = naive_bayes.feature_log_prob_\n",
    "    \n",
    "    \n",
    "    classwise_log_features = []\n",
    "    total_class_labels = list(set(list(class_labels)))\n",
    "    for i in range(len(total_class_labels)):\n",
    "        class_prob_sorted = naive_bayes.feature_log_prob_[i, :].argsort()\n",
    "        BOW_top_features_index = list(class_prob_sorted[-top_required_features:])\n",
    "        BOW_top_features= []\n",
    "        for index in BOW_top_features_index:\n",
    "            BOW_top_features.append(all_features[index])\n",
    "        classwise_log_features.append(BOW_top_features)\n",
    "    return total_class_labels, BOW_feature_log_prob, classwise_log_features "
   ]
  },
  {
   "cell_type": "markdown",
   "metadata": {},
   "source": [
    "**For BOW**"
   ]
  },
  {
   "cell_type": "code",
   "execution_count": 35,
   "metadata": {},
   "outputs": [
    {
     "name": "stdout",
     "output_type": "stream",
     "text": [
      "Log propabilities for TOP feature for class 0 are [-10.06947802  -8.76542175  -7.89592318 ... -12.32076981 -12.60845189\n",
      " -12.60845189] :\n",
      "-------------------------\n",
      "Top 20 features for class 0 are ['want', 'skills', 'love', 'reading', 'day', 'teacher_number_of_previously_posted_projects', 'able', 'year', 'come', 'work', 'need', 'nannan', 'price', 'help', 'learn', 'not', 'classroom', 'learning', 'school', 'students'] :\n",
      "==================================================\n",
      "Log propabilities for TOP feature for class 1 are [ -9.87737089  -8.53882557  -7.9590487  ... -13.79736207 -13.61504051\n",
      " -13.10421489] :\n",
      "-------------------------\n",
      "Top 20 features for class 1 are ['class', 'year', 'come', 'teacher_number_of_previously_posted_projects', 'love', 'day', 'able', 'use', 'need', 'reading', 'work', 'nannan', 'price', 'help', 'learn', 'not', 'learning', 'classroom', 'school', 'students'] :\n",
      "==================================================\n"
     ]
    },
    {
     "name": "stderr",
     "output_type": "stream",
     "text": [
      "C:\\Anaconda3\\lib\\site-packages\\sklearn\\utils\\validation.py:70: FutureWarning: Pass alpha=2 as keyword args. From version 0.25 passing these as positional arguments will result in an error\n",
      "  FutureWarning)\n"
     ]
    }
   ],
   "source": [
    "top_required_features = 20\n",
    "best_alpha = BOW_best_alpha\n",
    "all_features = all_features_BOW\n",
    "total_class_labels, BOW_feature_log_prob, classwise_log_features = top_features(X_tr, y_train, all_features, \n",
    "                                                                                best_alpha, top_required_features)\n",
    "\n",
    "for i in range(len(BOW_feature_log_prob)):\n",
    "    print(\"Log propabilities for TOP feature for class {0} are {1} :\".format(total_class_labels[i],BOW_feature_log_prob[i]))\n",
    "    print(\"-\"*25)\n",
    "    print(\"Top {0} features for class {1} are {2} :\".format(top_required_features, \n",
    "                                                            total_class_labels[i], classwise_log_features[i] ))\n",
    "    print(\"=\"*50)"
   ]
  },
  {
   "cell_type": "markdown",
   "metadata": {},
   "source": [
    "**For TFIDF**"
   ]
  },
  {
   "cell_type": "code",
   "execution_count": 36,
   "metadata": {},
   "outputs": [
    {
     "name": "stdout",
     "output_type": "stream",
     "text": [
      "Log propabilities for TOP feature for class 0 are [-10.43724525 -10.15705407  -9.04631673 ... -11.27303094 -11.76362243\n",
      " -11.54375425] :\n",
      "-------------------------\n",
      "Top 20 features for class 0 are ['appliedsciences', 'appliedlearning', 'health_wellness', 'specialneeds', 'specialneeds', 'students', 'ca', 'grades_6_8', 'health_sports', 'literature_writing', 'mathematics', 'literacy', 'grades_3_5', 'ms', 'math_science', 'grades_prek_2', 'literacy_language', 'mrs', 'teacher_number_of_previously_posted_projects', 'price'] :\n",
      "==================================================\n",
      "Log propabilities for TOP feature for class 1 are [-10.88911382  -9.93265679  -8.83732297 ... -12.56871803 -11.97645437\n",
      " -11.39199302] :\n",
      "-------------------------\n",
      "Top 20 features for class 1 are ['grades_9_12', 'appliedlearning', 'specialneeds', 'specialneeds', 'students', 'health_wellness', 'ca', 'grades_6_8', 'health_sports', 'literature_writing', 'mathematics', 'literacy', 'grades_3_5', 'ms', 'math_science', 'grades_prek_2', 'literacy_language', 'mrs', 'teacher_number_of_previously_posted_projects', 'price'] :\n",
      "==================================================\n"
     ]
    },
    {
     "name": "stderr",
     "output_type": "stream",
     "text": [
      "C:\\Anaconda3\\lib\\site-packages\\sklearn\\utils\\validation.py:70: FutureWarning: Pass alpha=0.1 as keyword args. From version 0.25 passing these as positional arguments will result in an error\n",
      "  FutureWarning)\n"
     ]
    }
   ],
   "source": [
    "top_required_features = 20\n",
    "best_alpha = TFIDF_best_alpha\n",
    "all_features = all_features_TFIDF\n",
    "total_class_labels, TFIDF_feature_log_prob, classwise_log_features = top_features(X_tr_tfidf, y_train, \n",
    "                                                                                all_features, best_alpha, top_required_features)\n",
    "for i in range(len(TFIDF_feature_log_prob)):\n",
    "    print(\"Log propabilities for TOP feature for class {0} are {1} :\".format(total_class_labels[i],TFIDF_feature_log_prob[i]))\n",
    "    print(\"-\"*25)\n",
    "    print(\"Top {0} features for class {1} are {2} :\".format(top_required_features, \n",
    "                                                            total_class_labels[i], classwise_log_features[i] ))\n",
    "    print(\"=\"*50)"
   ]
  },
  {
   "cell_type": "markdown",
   "metadata": {},
   "source": [
    "_______________"
   ]
  },
  {
   "cell_type": "markdown",
   "metadata": {},
   "source": [
    "## Summary \n",
    "Printing Results in a Tabular Form"
   ]
  },
  {
   "cell_type": "code",
   "execution_count": 37,
   "metadata": {},
   "outputs": [
    {
     "name": "stdout",
     "output_type": "stream",
     "text": [
      "+------------+-------+-----------------------+--------------------+\n",
      "| Vectorizer | Model | Hyper-parameter Alpha |        AUC         |\n",
      "+------------+-------+-----------------------+--------------------+\n",
      "|    BOW     |   NB  |           2           | 0.6857423588408089 |\n",
      "|   TF-IDF   |   NB  |          0.1          | 0.620818486800397  |\n",
      "+------------+-------+-----------------------+--------------------+\n"
     ]
    }
   ],
   "source": [
    "#Code Reference: http://zetcode.com/python/prettytable/\n",
    "from prettytable import PrettyTable\n",
    "t = PrettyTable(['Vectorizer', 'Model', 'Hyper-parameter Alpha', 'AUC'])\n",
    "t.add_row(['BOW', 'NB' , BOW_best_alpha , BOW_best_score])\n",
    "t.add_row(['TF-IDF', 'NB' , TFIDF_best_alpha , TFIDF_best_score])\n",
    "print(t)"
   ]
  },
  {
   "cell_type": "markdown",
   "metadata": {},
   "source": [
    "________"
   ]
  }
 ],
 "metadata": {
  "kernelspec": {
   "display_name": "Python 3",
   "language": "python",
   "name": "python3"
  },
  "language_info": {
   "codemirror_mode": {
    "name": "ipython",
    "version": 3
   },
   "file_extension": ".py",
   "mimetype": "text/x-python",
   "name": "python",
   "nbconvert_exporter": "python",
   "pygments_lexer": "ipython3",
   "version": "3.8.8"
  }
 },
 "nbformat": 4,
 "nbformat_minor": 4
}
